{
 "cells": [
  {
   "cell_type": "code",
   "execution_count": 1,
   "metadata": {},
   "outputs": [
    {
     "name": "stderr",
     "output_type": "stream",
     "text": [
      "Using TensorFlow backend.\n"
     ]
    }
   ],
   "source": [
    "import numpy as np\n",
    "import matplotlib.pyplot as plt\n",
    "from keras.datasets import mnist\n",
    "from deep_convnet import DeepConvNet\n",
    "%matplotlib inline\n",
    "\n",
    "from common.functions import softmax\n",
    "\n",
    "import time"
   ]
  },
  {
   "cell_type": "code",
   "execution_count": 2,
   "metadata": {},
   "outputs": [],
   "source": [
    "def generate_stack_list(x_list, t_list, max_n):\n",
    "    stack_x_list = []\n",
    "    stack_i_list = []\n",
    "    for _ in range(10):\n",
    "        stack_x_list.append([])\n",
    "        stack_i_list.append([])\n",
    "        \n",
    "    fill_list = []\n",
    "    for i, t in enumerate(t_list):\n",
    "        if (not t in fill_list) and len(stack_x_list[t]) < max_n:\n",
    "            stack_x_list[t].append(x_list[i].flatten())\n",
    "            stack_i_list[t].append(i)\n",
    "        else:\n",
    "            fill_list.append(t)\n",
    "            \n",
    "    return np.array(stack_x_list), np.array(stack_i_list)"
   ]
  },
  {
   "cell_type": "code",
   "execution_count": 3,
   "metadata": {},
   "outputs": [],
   "source": [
    "def generate_avg_list(stack_x_list):            \n",
    "    avg_list = []\n",
    "    for stacks in stack_x_list:\n",
    "        avg = np.mean(stacks, axis=0)\n",
    "        avg_list.append(avg.reshape(1,28,28))\n",
    "        \n",
    "    return np.array(avg_list)"
   ]
  },
  {
   "cell_type": "code",
   "execution_count": 4,
   "metadata": {},
   "outputs": [],
   "source": [
    "def show_pred(x, network):\n",
    "    pre = network.predict(x.reshape(1,1,28,28))\n",
    "    pre_label = np.argmax(pre)\n",
    "    pre_score = round(max(softmax(pre[0])), 2)\n",
    "\n",
    "    plt.imshow(x.reshape(28,28), 'gray')\n",
    "    plt.title(f\"{pre_label} : {pre_score}\", fontsize=20)\n",
    "    plt.show()"
   ]
  },
  {
   "cell_type": "code",
   "execution_count": 5,
   "metadata": {},
   "outputs": [],
   "source": [
    "def generate_setsudo(x, label, network, eps):\n",
    "    d, g = network.gradient_for_fgsm(x.reshape(1,1,28,28), np.array([label]))\n",
    "    p = eps * np.sign(d)\n",
    "    \n",
    "    return p.reshape(28,28)"
   ]
  },
  {
   "cell_type": "code",
   "execution_count": 6,
   "metadata": {},
   "outputs": [],
   "source": [
    "def attack_fgsm(x, label, network, eps):\n",
    "    x = x.reshape(28,28)\n",
    "    p = generate_setsudo(x, label, network, eps)\n",
    "    adv = (x + p).clip(min=0, max=1)\n",
    "    \n",
    "    return adv.reshape(1,28,28)"
   ]
  },
  {
   "cell_type": "code",
   "execution_count": 7,
   "metadata": {},
   "outputs": [],
   "source": [
    "def attack_fgsm_for_stack_list(stack_x_list, network, eps):\n",
    "    stack_adv_list = []\n",
    "    for label, stacks in enumerate(stack_x_list):\n",
    "        adv_list = []\n",
    "        for x in stacks:            \n",
    "#             show_pred(x, network)\n",
    "            adv = attack_fgsm(x, label, network, eps)\n",
    "#             show_pred(adv, network)\n",
    "            adv_list.append(adv)\n",
    "            \n",
    "        stack_adv_list.append(adv_list)\n",
    "        \n",
    "    return np.array(stack_adv_list)"
   ]
  },
  {
   "cell_type": "code",
   "execution_count": 8,
   "metadata": {},
   "outputs": [],
   "source": [
    "def attack_random_for_stack_list(stack_x_list, network, eps):\n",
    "    random_noise = np.random.normal(\n",
    "        loc   = 0,      # 平均\n",
    "        scale = 1,      # 標準偏差\n",
    "        size  = (28, 28),# 出力配列のサイズ\n",
    "    )\n",
    "    \n",
    "#     plt.hist(random_noise,bins=5)\n",
    "#     plt.xlim(-5,5)\n",
    "    \n",
    "    stack_adv_list = []\n",
    "    for label, stacks in enumerate(stack_x_list):\n",
    "        advs = (stack_x_list[label].reshape(-1, 1, 28, 28) + np.sign(random_noise) * eps).clip(min=0, max=1)\n",
    "        stack_adv_list.append(advs)\n",
    "            \n",
    "    return np.array(stack_adv_list)"
   ]
  },
  {
   "cell_type": "code",
   "execution_count": 9,
   "metadata": {},
   "outputs": [],
   "source": [
    "def acc_stack_list(stack_x_list, network):\n",
    "    for label, stacks in enumerate(stack_x_list):\n",
    "        acc = 0\n",
    "        for x in stacks:\n",
    "#             show_pred(stacks[0], network)\n",
    "            pre = network.predict(x.reshape(1,1,28,28))\n",
    "            pre_label = np.argmax(pre)\n",
    "            if pre_label == label:\n",
    "                acc += 1\n",
    "        print(label, acc/len(stacks))\n",
    "        print(\"-----\")"
   ]
  },
  {
   "cell_type": "code",
   "execution_count": 10,
   "metadata": {},
   "outputs": [],
   "source": [
    "def attack_avg_for_stack_list(stack_x_list, network, eps):\n",
    "    stack_adv_list = []\n",
    "    stack_avg_list = generate_avg_list(stack_x_list)\n",
    "    for label, avg in enumerate(stack_avg_list):\n",
    "        p = generate_setsudo(avg, label, network, eps)\n",
    "        advs = (stack_x_list[label].reshape(-1, 1, 28, 28) + p).clip(min=0, max=1)\n",
    "        stack_adv_list.append(advs)\n",
    "        \n",
    "    return np.array(stack_adv_list)"
   ]
  },
  {
   "cell_type": "code",
   "execution_count": 11,
   "metadata": {},
   "outputs": [
    {
     "name": "stdout",
     "output_type": "stream",
     "text": [
      "loaded Network Parameters!\n"
     ]
    }
   ],
   "source": [
    "network = DeepConvNet()\n",
    "\n",
    "network.load_params(\"deep_convnet_params.pkl\")\n",
    "print(\"loaded Network Parameters!\")"
   ]
  },
  {
   "cell_type": "code",
   "execution_count": 12,
   "metadata": {},
   "outputs": [],
   "source": [
    "eps = 0.3"
   ]
  },
  {
   "cell_type": "code",
   "execution_count": 13,
   "metadata": {},
   "outputs": [],
   "source": [
    "n = 2"
   ]
  },
  {
   "cell_type": "code",
   "execution_count": 14,
   "metadata": {},
   "outputs": [],
   "source": [
    "# データの読み込み\n",
    "(x_train, t_train), (x_test, t_test) = mnist.load_data()"
   ]
  },
  {
   "cell_type": "code",
   "execution_count": 15,
   "metadata": {
    "scrolled": false
   },
   "outputs": [],
   "source": [
    "stack_x_list, stack_i_list = generate_stack_list(x_test, t_test, n) "
   ]
  },
  {
   "cell_type": "code",
   "execution_count": 16,
   "metadata": {},
   "outputs": [
    {
     "data": {
      "text/plain": [
       "(10, 2, 784)"
      ]
     },
     "execution_count": 16,
     "metadata": {},
     "output_type": "execute_result"
    }
   ],
   "source": [
    "stack_x_list = stack_x_list.astype(np.float32) / 255.0\n",
    "stack_x_list.shape"
   ]
  },
  {
   "cell_type": "code",
   "execution_count": 17,
   "metadata": {
    "scrolled": true
   },
   "outputs": [
    {
     "name": "stdout",
     "output_type": "stream",
     "text": [
      "fgsm : 0.2171182632446289[sec]\n"
     ]
    }
   ],
   "source": [
    "start = time.time()\n",
    "stack_adv_list = attack_fgsm_for_stack_list(stack_x_list, network, eps)\n",
    "elapsed_time = time.time() - start\n",
    "print (f\"fgsm : {elapsed_time}[sec]\")"
   ]
  },
  {
   "cell_type": "code",
   "execution_count": 18,
   "metadata": {},
   "outputs": [
    {
     "name": "stdout",
     "output_type": "stream",
     "text": [
      "avg_fgsm : 0.12549400329589844[sec]\n"
     ]
    }
   ],
   "source": [
    "start = time.time()\n",
    "stack_avg_adv_list = attack_avg_for_stack_list(stack_x_list, network, eps)\n",
    "elapsed_time = time.time() - start\n",
    "print (f\"avg_fgsm : {elapsed_time}[sec]\")"
   ]
  },
  {
   "cell_type": "code",
   "execution_count": 19,
   "metadata": {},
   "outputs": [
    {
     "name": "stdout",
     "output_type": "stream",
     "text": [
      "random : 0.0012788772583007812[sec]\n"
     ]
    }
   ],
   "source": [
    "start = time.time()\n",
    "stack_random_list = attack_random_for_stack_list(stack_x_list, network, eps)\n",
    "elapsed_time = time.time() - start\n",
    "print (f\"random : {elapsed_time}[sec]\")"
   ]
  },
  {
   "cell_type": "code",
   "execution_count": 20,
   "metadata": {
    "scrolled": false
   },
   "outputs": [
    {
     "name": "stdout",
     "output_type": "stream",
     "text": [
      "normal\n",
      "0 1.0\n",
      "-----\n",
      "1 1.0\n",
      "-----\n",
      "2 1.0\n",
      "-----\n",
      "3 1.0\n",
      "-----\n",
      "4 1.0\n",
      "-----\n",
      "5 1.0\n",
      "-----\n",
      "6 1.0\n",
      "-----\n",
      "7 1.0\n",
      "-----\n",
      "8 1.0\n",
      "-----\n",
      "9 1.0\n",
      "-----\n"
     ]
    }
   ],
   "source": [
    "print(\"normal\")\n",
    "acc_stack_list(stack_x_list.reshape(10, -1, 1, 28, 28), network)"
   ]
  },
  {
   "cell_type": "code",
   "execution_count": 21,
   "metadata": {},
   "outputs": [
    {
     "name": "stdout",
     "output_type": "stream",
     "text": [
      "random\n",
      "0 1.0\n",
      "-----\n",
      "1 1.0\n",
      "-----\n",
      "2 1.0\n",
      "-----\n",
      "3 1.0\n",
      "-----\n",
      "4 0.5\n",
      "-----\n",
      "5 1.0\n",
      "-----\n",
      "6 1.0\n",
      "-----\n",
      "7 1.0\n",
      "-----\n",
      "8 1.0\n",
      "-----\n",
      "9 1.0\n",
      "-----\n"
     ]
    }
   ],
   "source": [
    "print(\"random\")\n",
    "acc_stack_list(stack_random_list, network)"
   ]
  },
  {
   "cell_type": "code",
   "execution_count": 22,
   "metadata": {
    "scrolled": false
   },
   "outputs": [
    {
     "name": "stdout",
     "output_type": "stream",
     "text": [
      "FGSM\n",
      "0 0.0\n",
      "-----\n",
      "1 0.0\n",
      "-----\n",
      "2 1.0\n",
      "-----\n",
      "3 0.5\n",
      "-----\n",
      "4 0.0\n",
      "-----\n",
      "5 0.0\n",
      "-----\n",
      "6 0.5\n",
      "-----\n",
      "7 0.0\n",
      "-----\n",
      "8 0.0\n",
      "-----\n",
      "9 0.0\n",
      "-----\n"
     ]
    }
   ],
   "source": [
    "print(\"FGSM\")\n",
    "acc_stack_list(stack_adv_list, network)"
   ]
  },
  {
   "cell_type": "code",
   "execution_count": 23,
   "metadata": {},
   "outputs": [
    {
     "name": "stdout",
     "output_type": "stream",
     "text": [
      "avg_fgsm\n",
      "0 0.5\n",
      "-----\n",
      "1 0.0\n",
      "-----\n",
      "2 1.0\n",
      "-----\n",
      "3 0.5\n",
      "-----\n",
      "4 0.0\n",
      "-----\n",
      "5 0.5\n",
      "-----\n",
      "6 0.5\n",
      "-----\n",
      "7 1.0\n",
      "-----\n",
      "8 0.0\n",
      "-----\n",
      "9 0.0\n",
      "-----\n"
     ]
    }
   ],
   "source": [
    "print(\"avg_fgsm\")\n",
    "acc_stack_list(stack_avg_adv_list, network)"
   ]
  },
  {
   "cell_type": "code",
   "execution_count": 24,
   "metadata": {},
   "outputs": [],
   "source": [
    "import keras\n",
    "from keras.models import model_from_json\n",
    "from keras.utils import np_utils\n",
    "from keras.optimizers import RMSprop"
   ]
  },
  {
   "cell_type": "code",
   "execution_count": 25,
   "metadata": {},
   "outputs": [
    {
     "name": "stderr",
     "output_type": "stream",
     "text": [
      "WARNING: Logging before flag parsing goes to stderr.\n",
      "W1224 14:58:27.835322 140737019925440 deprecation_wrapper.py:119] From /Users/ryuto/anaconda3/lib/python3.7/site-packages/keras/backend/tensorflow_backend.py:517: The name tf.placeholder is deprecated. Please use tf.compat.v1.placeholder instead.\n",
      "\n",
      "W1224 14:58:27.857506 140737019925440 deprecation_wrapper.py:119] From /Users/ryuto/anaconda3/lib/python3.7/site-packages/keras/backend/tensorflow_backend.py:4138: The name tf.random_uniform is deprecated. Please use tf.random.uniform instead.\n",
      "\n",
      "W1224 14:58:27.878449 140737019925440 deprecation_wrapper.py:119] From /Users/ryuto/anaconda3/lib/python3.7/site-packages/keras/backend/tensorflow_backend.py:131: The name tf.get_default_graph is deprecated. Please use tf.compat.v1.get_default_graph instead.\n",
      "\n",
      "W1224 14:58:27.879408 140737019925440 deprecation_wrapper.py:119] From /Users/ryuto/anaconda3/lib/python3.7/site-packages/keras/backend/tensorflow_backend.py:133: The name tf.placeholder_with_default is deprecated. Please use tf.compat.v1.placeholder_with_default instead.\n",
      "\n",
      "W1224 14:58:27.889042 140737019925440 deprecation.py:506] From /Users/ryuto/anaconda3/lib/python3.7/site-packages/keras/backend/tensorflow_backend.py:3445: calling dropout (from tensorflow.python.ops.nn_ops) with keep_prob is deprecated and will be removed in a future version.\n",
      "Instructions for updating:\n",
      "Please use `rate` instead of `keep_prob`. Rate should be set to `rate = 1 - keep_prob`.\n",
      "W1224 14:58:27.988282 140737019925440 deprecation_wrapper.py:119] From /Users/ryuto/anaconda3/lib/python3.7/site-packages/keras/backend/tensorflow_backend.py:174: The name tf.get_default_session is deprecated. Please use tf.compat.v1.get_default_session instead.\n",
      "\n",
      "W1224 14:58:28.055341 140737019925440 deprecation_wrapper.py:119] From /Users/ryuto/anaconda3/lib/python3.7/site-packages/keras/optimizers.py:790: The name tf.train.Optimizer is deprecated. Please use tf.compat.v1.train.Optimizer instead.\n",
      "\n"
     ]
    },
    {
     "name": "stdout",
     "output_type": "stream",
     "text": [
      "_________________________________________________________________\n",
      "Layer (type)                 Output Shape              Param #   \n",
      "=================================================================\n",
      "dense_1 (Dense)              (None, 512)               401920    \n",
      "_________________________________________________________________\n",
      "dropout_1 (Dropout)          (None, 512)               0         \n",
      "_________________________________________________________________\n",
      "dense_2 (Dense)              (None, 512)               262656    \n",
      "_________________________________________________________________\n",
      "dropout_2 (Dropout)          (None, 512)               0         \n",
      "_________________________________________________________________\n",
      "dense_3 (Dense)              (None, 10)                5130      \n",
      "=================================================================\n",
      "Total params: 669,706\n",
      "Trainable params: 669,706\n",
      "Non-trainable params: 0\n",
      "_________________________________________________________________\n"
     ]
    }
   ],
   "source": [
    "# モデルを読み込む\n",
    "model = model_from_json(open('mnist_mlp_model.json').read())\n",
    "\n",
    "# 学習結果を読み込む\n",
    "model.load_weights('mnist_mlp_weights.h5')\n",
    "\n",
    "model.summary();\n",
    "\n",
    "model.compile(loss='categorical_crossentropy',\n",
    "              optimizer=RMSprop(),\n",
    "              metrics=['accuracy'])"
   ]
  },
  {
   "cell_type": "code",
   "execution_count": 26,
   "metadata": {},
   "outputs": [],
   "source": [
    "def acc_keras_stack_list(stack_x_list, model):\n",
    "    for label, stacks in enumerate(stack_x_list):\n",
    "        labels = keras.utils.to_categorical(np.full(len(stacks), label), 10)\n",
    "        score = model.evaluate(stacks.reshape(-1, 784), labels, verbose=0)\n",
    "        print(label, round(score[1], 2))\n",
    "        print(\"-----\")"
   ]
  },
  {
   "cell_type": "code",
   "execution_count": 27,
   "metadata": {},
   "outputs": [
    {
     "name": "stdout",
     "output_type": "stream",
     "text": [
      "0 1.0\n",
      "-----\n",
      "1 0.0\n",
      "-----\n",
      "2 1.0\n",
      "-----\n",
      "3 0.5\n",
      "-----\n",
      "4 0.0\n",
      "-----\n",
      "5 0.5\n",
      "-----\n",
      "6 1.0\n",
      "-----\n",
      "7 0.0\n",
      "-----\n",
      "8 1.0\n",
      "-----\n",
      "9 0.0\n",
      "-----\n"
     ]
    }
   ],
   "source": [
    "acc_keras_stack_list(stack_adv_list, model)"
   ]
  },
  {
   "cell_type": "code",
   "execution_count": 28,
   "metadata": {},
   "outputs": [
    {
     "name": "stdout",
     "output_type": "stream",
     "text": [
      "0 1.0\n",
      "-----\n",
      "1 1.0\n",
      "-----\n",
      "2 1.0\n",
      "-----\n",
      "3 1.0\n",
      "-----\n",
      "4 1.0\n",
      "-----\n",
      "5 1.0\n",
      "-----\n",
      "6 1.0\n",
      "-----\n",
      "7 1.0\n",
      "-----\n",
      "8 1.0\n",
      "-----\n",
      "9 1.0\n",
      "-----\n"
     ]
    }
   ],
   "source": [
    "acc_keras_stack_list(stack_x_list, model)"
   ]
  },
  {
   "cell_type": "code",
   "execution_count": 29,
   "metadata": {},
   "outputs": [
    {
     "name": "stdout",
     "output_type": "stream",
     "text": [
      "0 1.0\n",
      "-----\n",
      "1 0.0\n",
      "-----\n",
      "2 1.0\n",
      "-----\n",
      "3 0.5\n",
      "-----\n",
      "4 0.0\n",
      "-----\n",
      "5 1.0\n",
      "-----\n",
      "6 1.0\n",
      "-----\n",
      "7 1.0\n",
      "-----\n",
      "8 1.0\n",
      "-----\n",
      "9 0.5\n",
      "-----\n"
     ]
    }
   ],
   "source": [
    "acc_keras_stack_list(stack_random_list, model)"
   ]
  },
  {
   "cell_type": "code",
   "execution_count": 30,
   "metadata": {},
   "outputs": [
    {
     "name": "stdout",
     "output_type": "stream",
     "text": [
      "0 1.0\n",
      "-----\n",
      "1 0.0\n",
      "-----\n",
      "2 1.0\n",
      "-----\n",
      "3 0.5\n",
      "-----\n",
      "4 0.0\n",
      "-----\n",
      "5 0.5\n",
      "-----\n",
      "6 1.0\n",
      "-----\n",
      "7 0.0\n",
      "-----\n",
      "8 0.5\n",
      "-----\n",
      "9 0.0\n",
      "-----\n"
     ]
    }
   ],
   "source": [
    "acc_keras_stack_list(stack_avg_adv_list, model)"
   ]
  },
  {
   "cell_type": "code",
   "execution_count": null,
   "metadata": {},
   "outputs": [],
   "source": []
  },
  {
   "cell_type": "code",
   "execution_count": null,
   "metadata": {},
   "outputs": [],
   "source": []
  },
  {
   "cell_type": "code",
   "execution_count": null,
   "metadata": {},
   "outputs": [],
   "source": []
  }
 ],
 "metadata": {
  "kernelspec": {
   "display_name": "Python 3",
   "language": "python",
   "name": "python3"
  },
  "language_info": {
   "codemirror_mode": {
    "name": "ipython",
    "version": 3
   },
   "file_extension": ".py",
   "mimetype": "text/x-python",
   "name": "python",
   "nbconvert_exporter": "python",
   "pygments_lexer": "ipython3",
   "version": "3.7.3"
  }
 },
 "nbformat": 4,
 "nbformat_minor": 2
}
