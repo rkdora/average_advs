{
 "cells": [
  {
   "cell_type": "code",
   "execution_count": 1,
   "metadata": {},
   "outputs": [
    {
     "name": "stderr",
     "output_type": "stream",
     "text": [
      "Using TensorFlow backend.\n"
     ]
    }
   ],
   "source": [
    "import numpy as np\n",
    "import matplotlib.pyplot as plt\n",
    "from keras.datasets import mnist\n",
    "from deep_convnet import DeepConvNet\n",
    "%matplotlib inline\n",
    "\n",
    "from common.functions import softmax\n",
    "\n",
    "import time"
   ]
  },
  {
   "cell_type": "code",
   "execution_count": 2,
   "metadata": {},
   "outputs": [],
   "source": [
    "def generate_stack_list(x_list, t_list, max_n):\n",
    "    stack_x_list = []\n",
    "    stack_i_list = []\n",
    "    for _ in range(10):\n",
    "        stack_x_list.append([])\n",
    "        stack_i_list.append([])\n",
    "        \n",
    "    fill_list = []\n",
    "    for i, t in enumerate(t_list):\n",
    "        if (not t in fill_list) and len(stack_x_list[t]) < max_n:\n",
    "            stack_x_list[t].append(x_list[i].flatten())\n",
    "            stack_i_list[t].append(i)\n",
    "        else:\n",
    "            fill_list.append(t)\n",
    "            \n",
    "    return np.array(stack_x_list), np.array(stack_i_list)"
   ]
  },
  {
   "cell_type": "code",
   "execution_count": 3,
   "metadata": {},
   "outputs": [],
   "source": [
    "def generate_stack_list_with_unknown(x_list, t_list, max_n, max_unknown_n):\n",
    "    stack_x_list = []\n",
    "    stack_i_list = []\n",
    "    stack_unknown_list = []\n",
    "    for _ in range(10):\n",
    "        stack_x_list.append([])\n",
    "        stack_i_list.append([])\n",
    "        stack_unknown_list.append([])\n",
    "        \n",
    "    for i, t in enumerate(t_list):\n",
    "        if len(stack_x_list[t]) < max_n:\n",
    "            stack_x_list[t].append(x_list[i].flatten())\n",
    "            stack_i_list[t].append(i)\n",
    "        elif len(stack_unknown_list[t]) < max_unknown_n:\n",
    "            stack_unknown_list[t].append(x_list[i])\n",
    "            \n",
    "    return np.array(stack_x_list), np.array(stack_i_list), np.array(stack_unknown_list)"
   ]
  },
  {
   "cell_type": "code",
   "execution_count": 4,
   "metadata": {},
   "outputs": [],
   "source": [
    "def generate_avg_list(stack_x_list):            \n",
    "    avg_list = []\n",
    "    for stacks in stack_x_list:\n",
    "        avg = np.mean(stacks, axis=0)\n",
    "        avg_list.append(avg.reshape(1,28,28))\n",
    "        \n",
    "    return np.array(avg_list)"
   ]
  },
  {
   "cell_type": "code",
   "execution_count": 5,
   "metadata": {},
   "outputs": [],
   "source": [
    "def show_pred(x, network):\n",
    "    pre = network.predict(x.reshape(1,1,28,28))\n",
    "    pre_label = np.argmax(pre)\n",
    "    pre_score = round(max(softmax(pre[0])), 2)\n",
    "\n",
    "    plt.imshow(x.reshape(28,28), 'gray')\n",
    "    plt.title(f\"{pre_label} : {pre_score}\", fontsize=20)\n",
    "    plt.show()"
   ]
  },
  {
   "cell_type": "code",
   "execution_count": 6,
   "metadata": {},
   "outputs": [],
   "source": [
    "def generate_setsudo(x, label, network, eps):\n",
    "    d, g = network.gradient_for_fgsm(x.reshape(1,1,28,28), np.array([label]))\n",
    "    p = eps * np.sign(d)\n",
    "    \n",
    "    return p.reshape(28,28)"
   ]
  },
  {
   "cell_type": "code",
   "execution_count": 7,
   "metadata": {},
   "outputs": [],
   "source": [
    "def attack_fgsm(x, label, network, eps):\n",
    "    x = x.reshape(28,28)\n",
    "    p = generate_setsudo(x, label, network, eps)\n",
    "    adv = (x + p).clip(min=0, max=1)\n",
    "    \n",
    "    return adv.reshape(1,28,28)"
   ]
  },
  {
   "cell_type": "code",
   "execution_count": 8,
   "metadata": {},
   "outputs": [],
   "source": [
    "def attack_fgsm_for_stack_list(stack_x_list, network, eps):\n",
    "    stack_adv_list = []\n",
    "    for label, stacks in enumerate(stack_x_list):\n",
    "        adv_list = []\n",
    "        for x in stacks:            \n",
    "#             show_pred(x, network)\n",
    "            adv = attack_fgsm(x, label, network, eps)\n",
    "#             show_pred(adv, network)\n",
    "            adv_list.append(adv)\n",
    "            \n",
    "        stack_adv_list.append(adv_list)\n",
    "        \n",
    "    return np.array(stack_adv_list)"
   ]
  },
  {
   "cell_type": "code",
   "execution_count": 9,
   "metadata": {},
   "outputs": [],
   "source": [
    "def attack_fgsm_for_stack_unknown_list(stack_unknown_list, stack_x_list, network, eps):\n",
    "    stack_adv_list = []\n",
    "    for label, stacks in enumerate(stack_x_list):\n",
    "        adv_list = []\n",
    "#         show_pred(stacks[0], network)\n",
    "        p = generate_setsudo(stacks[0], label, network, eps)\n",
    "#         show_pred(p, network)\n",
    "        for x in stack_unknown_list[label]:            \n",
    "#             show_pred(x, network)\n",
    "            adv = (x.reshape(28,28) + p).clip(min=0, max=1)\n",
    "#             show_pred(adv, network)\n",
    "            adv_list.append(adv.reshape(1,28,28))\n",
    "            \n",
    "        stack_adv_list.append(adv_list)\n",
    "        \n",
    "    return np.array(stack_adv_list)"
   ]
  },
  {
   "cell_type": "code",
   "execution_count": 10,
   "metadata": {},
   "outputs": [],
   "source": [
    "def attack_random_for_stack_list(stack_x_list, network, eps):\n",
    "    random_noise = np.random.normal(\n",
    "        loc   = 0,      # 平均\n",
    "        scale = 1,      # 標準偏差\n",
    "        size  = (28, 28),# 出力配列のサイズ\n",
    "    )\n",
    "    \n",
    "#     plt.hist(random_noise,bins=5)\n",
    "#     plt.xlim(-5,5)\n",
    "    \n",
    "    stack_adv_list = []\n",
    "    for label, stacks in enumerate(stack_x_list):\n",
    "        advs = (stack_x_list[label].reshape(-1, 1, 28, 28) + np.sign(random_noise) * eps).clip(min=0, max=1)\n",
    "        stack_adv_list.append(advs)\n",
    "            \n",
    "    return np.array(stack_adv_list)"
   ]
  },
  {
   "cell_type": "code",
   "execution_count": 11,
   "metadata": {},
   "outputs": [],
   "source": [
    "def acc_stack_list(stack_x_list, network):\n",
    "    for label, stacks in enumerate(stack_x_list):\n",
    "        acc = 0\n",
    "        for x in stacks:\n",
    "#             show_pred(stacks[0], network)\n",
    "            pre = network.predict(x.reshape(1,1,28,28))\n",
    "            pre_label = np.argmax(pre)\n",
    "            if pre_label == label:\n",
    "                acc += 1\n",
    "        print(label, acc/len(stacks))\n",
    "        print(\"-----\")"
   ]
  },
  {
   "cell_type": "code",
   "execution_count": 12,
   "metadata": {},
   "outputs": [],
   "source": [
    "def attack_avg_for_stack_list(stack_x_list, network, eps):\n",
    "    stack_adv_list = []\n",
    "    stack_avg_list = generate_avg_list(stack_x_list)\n",
    "    for label, avg in enumerate(stack_avg_list):\n",
    "        p = generate_setsudo(avg, label, network, eps)\n",
    "        advs = (stack_x_list[label].reshape(-1, 1, 28, 28) + p).clip(min=0, max=1)\n",
    "        stack_adv_list.append(advs)\n",
    "        \n",
    "    return np.array(stack_adv_list)"
   ]
  },
  {
   "cell_type": "code",
   "execution_count": 13,
   "metadata": {},
   "outputs": [],
   "source": [
    "def attack_avg_for_stack_unknown_list(stack_unknown_list, stack_x_list, network, eps):\n",
    "    stack_adv_list = []\n",
    "    stack_avg_list = generate_avg_list(stack_x_list)\n",
    "    for label, avg in enumerate(stack_avg_list):\n",
    "        p = generate_setsudo(avg, label, network, eps)\n",
    "        advs = (stack_unknown_list[label].reshape(-1, 1, 28, 28) + p).clip(min=0, max=1)\n",
    "        stack_adv_list.append(advs)\n",
    "        \n",
    "    return np.array(stack_adv_list)"
   ]
  },
  {
   "cell_type": "code",
   "execution_count": 14,
   "metadata": {},
   "outputs": [
    {
     "name": "stdout",
     "output_type": "stream",
     "text": [
      "loaded Network Parameters!\n"
     ]
    }
   ],
   "source": [
    "network = DeepConvNet()\n",
    "\n",
    "network.load_params(\"deep_convnet_params.pkl\")\n",
    "print(\"loaded Network Parameters!\")"
   ]
  },
  {
   "cell_type": "code",
   "execution_count": 15,
   "metadata": {},
   "outputs": [],
   "source": [
    "eps = 0.3"
   ]
  },
  {
   "cell_type": "code",
   "execution_count": 16,
   "metadata": {},
   "outputs": [],
   "source": [
    "n = 2"
   ]
  },
  {
   "cell_type": "code",
   "execution_count": 17,
   "metadata": {},
   "outputs": [],
   "source": [
    "# データの読み込み\n",
    "(x_train, t_train), (x_test, t_test) = mnist.load_data()"
   ]
  },
  {
   "cell_type": "code",
   "execution_count": 18,
   "metadata": {
    "scrolled": false
   },
   "outputs": [],
   "source": [
    "stack_x_list, stack_i_list, stack_unknown_list = generate_stack_list_with_unknown(x_test, t_test, n, 100) "
   ]
  },
  {
   "cell_type": "code",
   "execution_count": 19,
   "metadata": {},
   "outputs": [
    {
     "data": {
      "text/plain": [
       "(10, 2, 784)"
      ]
     },
     "execution_count": 19,
     "metadata": {},
     "output_type": "execute_result"
    }
   ],
   "source": [
    "stack_x_list = stack_x_list.astype(np.float32) / 255.0\n",
    "stack_x_list.shape"
   ]
  },
  {
   "cell_type": "code",
   "execution_count": 20,
   "metadata": {},
   "outputs": [
    {
     "data": {
      "text/plain": [
       "(10, 100, 28, 28)"
      ]
     },
     "execution_count": 20,
     "metadata": {},
     "output_type": "execute_result"
    }
   ],
   "source": [
    "stack_unknown_list.shape"
   ]
  },
  {
   "cell_type": "code",
   "execution_count": 21,
   "metadata": {},
   "outputs": [
    {
     "data": {
      "text/plain": [
       "(10, 100, 28, 28)"
      ]
     },
     "execution_count": 21,
     "metadata": {},
     "output_type": "execute_result"
    }
   ],
   "source": [
    "stack_unknown_list = stack_unknown_list.astype(np.float32) / 255.0\n",
    "stack_unknown_list.shape"
   ]
  },
  {
   "cell_type": "code",
   "execution_count": 22,
   "metadata": {
    "scrolled": false
   },
   "outputs": [
    {
     "name": "stdout",
     "output_type": "stream",
     "text": [
      "fgsm : 0.1695880889892578[sec]\n"
     ]
    }
   ],
   "source": [
    "start = time.time()\n",
    "stack_adv_list = attack_fgsm_for_stack_unknown_list(stack_unknown_list, stack_x_list, network, eps)\n",
    "elapsed_time = time.time() - start\n",
    "print (f\"fgsm : {elapsed_time}[sec]\")"
   ]
  },
  {
   "cell_type": "code",
   "execution_count": 23,
   "metadata": {},
   "outputs": [
    {
     "name": "stdout",
     "output_type": "stream",
     "text": [
      "avg_fgsm : 0.15660500526428223[sec]\n"
     ]
    }
   ],
   "source": [
    "start = time.time()\n",
    "stack_avg_adv_list = attack_avg_for_stack_unknown_list(stack_unknown_list, stack_x_list, network, eps)\n",
    "elapsed_time = time.time() - start\n",
    "print (f\"avg_fgsm : {elapsed_time}[sec]\")"
   ]
  },
  {
   "cell_type": "code",
   "execution_count": 24,
   "metadata": {},
   "outputs": [
    {
     "name": "stdout",
     "output_type": "stream",
     "text": [
      "random : 0.01024174690246582[sec]\n"
     ]
    }
   ],
   "source": [
    "start = time.time()\n",
    "stack_random_list = attack_random_for_stack_list(stack_unknown_list, network, eps)\n",
    "elapsed_time = time.time() - start\n",
    "print (f\"random : {elapsed_time}[sec]\")"
   ]
  },
  {
   "cell_type": "code",
   "execution_count": 25,
   "metadata": {
    "scrolled": false
   },
   "outputs": [
    {
     "name": "stdout",
     "output_type": "stream",
     "text": [
      "normal\n",
      "0 1.0\n",
      "-----\n",
      "1 0.98\n",
      "-----\n",
      "2 0.99\n",
      "-----\n",
      "3 1.0\n",
      "-----\n",
      "4 0.97\n",
      "-----\n",
      "5 0.98\n",
      "-----\n",
      "6 0.98\n",
      "-----\n",
      "7 1.0\n",
      "-----\n",
      "8 0.98\n",
      "-----\n",
      "9 1.0\n",
      "-----\n"
     ]
    }
   ],
   "source": [
    "print(\"normal\")\n",
    "acc_stack_list(stack_unknown_list.reshape(10, -1, 1, 28, 28), network)"
   ]
  },
  {
   "cell_type": "code",
   "execution_count": 26,
   "metadata": {},
   "outputs": [
    {
     "name": "stdout",
     "output_type": "stream",
     "text": [
      "random\n",
      "0 0.97\n",
      "-----\n",
      "1 0.24\n",
      "-----\n",
      "2 1.0\n",
      "-----\n",
      "3 0.99\n",
      "-----\n",
      "4 0.92\n",
      "-----\n",
      "5 0.91\n",
      "-----\n",
      "6 0.95\n",
      "-----\n",
      "7 0.91\n",
      "-----\n",
      "8 0.94\n",
      "-----\n",
      "9 0.95\n",
      "-----\n"
     ]
    }
   ],
   "source": [
    "print(\"random\")\n",
    "acc_stack_list(stack_random_list, network)"
   ]
  },
  {
   "cell_type": "code",
   "execution_count": 27,
   "metadata": {
    "scrolled": false
   },
   "outputs": [
    {
     "name": "stdout",
     "output_type": "stream",
     "text": [
      "FGSM\n",
      "0 0.56\n",
      "-----\n",
      "1 0.33\n",
      "-----\n",
      "2 0.96\n",
      "-----\n",
      "3 1.0\n",
      "-----\n",
      "4 0.87\n",
      "-----\n",
      "5 0.9\n",
      "-----\n",
      "6 0.86\n",
      "-----\n",
      "7 0.69\n",
      "-----\n",
      "8 0.8\n",
      "-----\n",
      "9 0.6\n",
      "-----\n"
     ]
    }
   ],
   "source": [
    "print(\"FGSM\")\n",
    "acc_stack_list(stack_adv_list, network)"
   ]
  },
  {
   "cell_type": "code",
   "execution_count": 28,
   "metadata": {},
   "outputs": [
    {
     "name": "stdout",
     "output_type": "stream",
     "text": [
      "avg_fgsm\n",
      "0 0.82\n",
      "-----\n",
      "1 0.46\n",
      "-----\n",
      "2 0.97\n",
      "-----\n",
      "3 0.98\n",
      "-----\n",
      "4 0.75\n",
      "-----\n",
      "5 0.99\n",
      "-----\n",
      "6 0.84\n",
      "-----\n",
      "7 0.65\n",
      "-----\n",
      "8 0.79\n",
      "-----\n",
      "9 0.83\n",
      "-----\n"
     ]
    }
   ],
   "source": [
    "print(\"avg_fgsm\")\n",
    "acc_stack_list(stack_avg_adv_list, network)"
   ]
  },
  {
   "cell_type": "code",
   "execution_count": null,
   "metadata": {},
   "outputs": [],
   "source": []
  },
  {
   "cell_type": "code",
   "execution_count": null,
   "metadata": {},
   "outputs": [],
   "source": []
  }
 ],
 "metadata": {
  "kernelspec": {
   "display_name": "Python 3",
   "language": "python",
   "name": "python3"
  },
  "language_info": {
   "codemirror_mode": {
    "name": "ipython",
    "version": 3
   },
   "file_extension": ".py",
   "mimetype": "text/x-python",
   "name": "python",
   "nbconvert_exporter": "python",
   "pygments_lexer": "ipython3",
   "version": "3.7.3"
  }
 },
 "nbformat": 4,
 "nbformat_minor": 2
}
